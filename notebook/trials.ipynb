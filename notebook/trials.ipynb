{
 "cells": [
  {
   "cell_type": "code",
   "execution_count": 1,
   "metadata": {},
   "outputs": [],
   "source": [
    "import sys\n",
    "sys.path.append(\"..\")\n",
    "\n",
    "from langchain.vectorstores import FAISS\n",
    "from langchain_huggingface import HuggingFaceEmbeddings\n",
    "\n",
    "from langchain.document_loaders.pdf import PyPDFDirectoryLoader\n",
    "from langchain.text_splitter import RecursiveCharacterTextSplitter\n",
    "\n",
    "from langchain.prompts import ChatPromptTemplate\n",
    "from langchain_community.llms.ollama import Ollama\n",
    "\n",
    "import warnings\n",
    "warnings.filterwarnings(\"ignore\")"
   ]
  },
  {
   "cell_type": "code",
   "execution_count": 2,
   "metadata": {},
   "outputs": [],
   "source": [
    "DATA_PATH = \"path/to/directory\""
   ]
  },
  {
   "cell_type": "code",
   "execution_count": 3,
   "metadata": {},
   "outputs": [],
   "source": [
    "def load_docs(data_dir):\n",
    "    \n",
    "    \"\"\" A simple function that loads data from all pdfs inside a directory.\n",
    "\n",
    "    Args:\n",
    "        DATA_DIR (path): Path to the directory where pdf documents are stored.\n",
    "\n",
    "    Returns:\n",
    "        list(tuple): returns a list of tuples where each tuple contains \"page content\" of the document and\n",
    "        some meta deta like \"source\" and \"page number\" i.e., [Document(page_content = \"Tax information ...\",\n",
    "        metadata = {\"source\": \"doc_1.pdf\", \"page\": 10})].\n",
    "    \"\"\"\n",
    "    \n",
    "    # create an instance of document loader using the pypdfdirectoryloader from langchain\n",
    "    document_loader = PyPDFDirectoryLoader(data_dir)\n",
    "    \n",
    "    return document_loader.load()\n",
    "\n",
    "def split_docs_into_chunks(documents, chunk_size = 250, chunk_overlap = 25):\n",
    "    \n",
    "    \"\"\" A function that split a document into chunks of specific sizes like 500 characters.\n",
    "\n",
    "    Args:\n",
    "        documents (list(tuple)): a list of tuples where each tuple contains \"page content\" of the document and\n",
    "        some meta deta like \"source\" and \"page number\".\n",
    "\n",
    "    Returns:\n",
    "        list(tuples): similar to the format in which data came but any document larger than chunk_size has been split\n",
    "        into multiple chunks.\n",
    "    \"\"\"\n",
    "    \n",
    "    # create an instance of recursive character text splitter from langchain\n",
    "    text_splitter = RecursiveCharacterTextSplitter(\n",
    "        chunk_size = chunk_size,\n",
    "        chunk_overlap = chunk_overlap,\n",
    "        length_function = len,\n",
    "        is_separator_regex = False,\n",
    "    )\n",
    "    \n",
    "    return text_splitter.split_documents(documents)    \n",
    "\n",
    "def get_chunk_ids(chunks):\n",
    "\n",
    "    \"\"\" A function that creates a unique identifier for each chunk in the database like \"docs/doc_name:page_num:chunk_id\".\n",
    "    A chunk id of \"docs/doc_1.pdf:10:5\" refers to the 5th chunk on page 10 of doc_1.pdf. \n",
    "\n",
    "    Returns:\n",
    "        list(tuple): returns a list of tuples where each tuple contains \"page content\" of the document and\n",
    "        some meta deta like \"source\", \"page number\", and \"chunk_id\"\n",
    "    \"\"\"\n",
    "\n",
    "    last_page_id = None\n",
    "    current_chunk_index = 0\n",
    "\n",
    "    for chunk in chunks:\n",
    "        # get source and page number from metadata to create a current page id\n",
    "        source = chunk.metadata.get(\"source\")\n",
    "        page = chunk.metadata.get(\"page\")\n",
    "        current_page_id = f\"{source}:{page}\"\n",
    "\n",
    "        # if the page ID is the same as the last one, increment the index.\n",
    "        if current_page_id == last_page_id:\n",
    "            current_chunk_index += 1\n",
    "        else:\n",
    "            current_chunk_index = 0\n",
    "\n",
    "        # calculate the chunk ID.\n",
    "        chunk_id = f\"{current_page_id}:{current_chunk_index}\"\n",
    "        last_page_id = current_page_id\n",
    "\n",
    "        # add it to the page meta-data.\n",
    "        chunk.metadata[\"id\"] = chunk_id\n",
    "\n",
    "    return chunks"
   ]
  },
  {
   "cell_type": "code",
   "execution_count": 4,
   "metadata": {},
   "outputs": [],
   "source": [
    "\n",
    "documents = load_docs(DATA_PATH)"
   ]
  },
  {
   "cell_type": "code",
   "execution_count": 5,
   "metadata": {},
   "outputs": [
    {
     "data": {
      "text/plain": [
       "13"
      ]
     },
     "execution_count": 5,
     "metadata": {},
     "output_type": "execute_result"
    }
   ],
   "source": [
    "len(documents)"
   ]
  },
  {
   "cell_type": "code",
   "execution_count": 6,
   "metadata": {},
   "outputs": [
    {
     "data": {
      "text/plain": [
       "[Document(page_content='UNO\\nRULES\\nRULES .ORGUNOTHE OFFICIAL\\nTHE RULES OF UNO ARE SIMPLE.\\nHOWEVER, WE HAVE MADE IT EVEN\\nEASIER TO SURVEY THE RULES AND\\nADDED AN FAQ AT THE END!\\n \\nCHECK OUT UNORULES.ORG FOR MORE!RULES\\n.ORGUNO\\nPRESENTS', metadata={'source': '/Users/anuragkotiyal/Desktop/Projects/Board Games Rulebook/library/UNO.pdf', 'page': 0}),\n",
       " Document(page_content='0-90-90-90-919 Red cards - 0 to 9\\n19 Blue cards - 0 to 9\\n19 Green cards - 0 to 9\\n19 Yellow cards - 0 to 9\\n2 Green Reverse cards\\n2 Yellow Reverse cards\\n2 Red Reverse cards\\n2 Blue Reverse cards+2\\n+2+2\\n+2+2\\n+2+2\\n+2\\n+4\\n+4+4\\n+4+4\\n+4+4\\n+4\\n4 Wild cards 4 Wild Draw 4 cards\\nEach player draws a card. The player with the highest point value is the\\ndealer. Shuffle the deck. Each player is dealt seven cards.\\nPlace the remaining cards facedown to form a DRAW pile. Turn over the\\ntop card of the DRAW pile to begin a DISCARD pile. If the top card is a\\nWild or Wild Draw 4, return it to the deck and pick another card. For all\\nthe other cards, see directions that follow.7OFFICIAL UNO RULES\\nClassic Uno\\nCONTENTS\\n112 cards as follows:\\n76 Numbered cards 8 Skip cards\\n8 Reverse cards 8 Draw 2 cards\\n2 Blue Draw 2 Cards\\n2 Green Draw 2 Cards\\n2 Red Draw 2 Cards\\n2 Yellow Draw 2 Cards2 Yellow Skip cards\\n2 Red Skip cards\\n2 Green Skip cards\\n2 Blue Skip cards\\nSome Uno decks can also contain various numbers of these different\\ncards. Classic Uno does not use these cards, so leave them out if you\\nwant to play the classic version.Blank Cards Swap Hands cards Shuffle Hands cards\\nOBJECT\\nThe first player to play all the cards in their hand in each round scores\\npoints for the card their opponents are left holding. \\nThe first player to score 500 points wins the game.\\nSET UP\\nRULES .ORGUNO\\nPage 1Page 1\\nFind more special rules, house rules, special cards, and a big FAQ\\non unorules.org.+7 years\\n2-10 players', metadata={'source': '/Users/anuragkotiyal/Desktop/Projects/Board Games Rulebook/library/UNO.pdf', 'page': 1}),\n",
       " Document(page_content='SPECIAL CARDS\\nWhen you play this card, the next person to play must draw 2 cards\\nand forfeit his/her turn.\\nIf this card is turned up at the beginning of the play, the first player\\nmust draw two cards. \\nThis card may only be played on a matching color or another Draw 2\\ncard.\\nPage 2Page 2\\n+2\\n+2Draw 2 Card\\nThis card reverses the direction of play. Play to the left now passes to\\nthe right and vice versa. \\nIf this card is turned up at the beginning of the play, the player to the\\nright now plays first, and play then goes to the right instead of the left. \\nThis card may only be played on a matching color or another reverse\\ncard.Reverse Card\\nSkip Card\\nThe next person in line to play after this card is played loses his/her\\nturn and is \"skipped\".\\nIf this card is turned up at the beginning of the play, the first player\\n(the player to the left of the dealer) is skipped.\\nThis card may only be played on a matching color or another reverse\\ncard.\\nWild Card\\nWhen you play this card, you may change the color being played to\\nany color (including the current color) to continue play. \\nYou may play a Wild card even if you have another playable card in\\nhand. \\nIf this card is turned up at the beginning of play, the person to the left\\nof the dealer chooses the color to begin play and plays the first card. \\nWild Draw 4 Card\\n+4\\n+4This card allows you to call the next color played and required the\\nnext player to pick 4 cards from the DRAW pile and forfeit his/her\\nturn. \\nHowever, there is a hitch! You can only play this card when you don\\'t\\nhave a card in your hand that matches the color of the card previously\\nplayed. \\nIf turned up at the beginning of the play, return this card to the deck\\nand pick another card. \\nNote: A Player may play a \"Wild Draw Four\" card even if they have a\\nmatching number or word card of a different color in their hand. \\nIf you suspect that a player has played a Wild Draw 4 card illegally,\\nyou may challenge them. A challenged player must show his/her\\nhand to the player who challenged. If the challenged player is guilty,\\nhe/she must draw 4 cards. If the challenged player is not guilty, the\\nchallenger must draw the 4 cards, plus 2 additional cards. \\nOnly the person required to draw the 4 cards can make the challenge.\\nRULES .ORGUNO\\nFind more special rules, house rules, special cards, and a big FAQ\\non unorules.org.', metadata={'source': '/Users/anuragkotiyal/Desktop/Projects/Board Games Rulebook/library/UNO.pdf', 'page': 2}),\n",
       " Document(page_content='LET\\'S PLAY!\\nThe player to the left of the dealer plays first. \\nPlay passes to the left to start. \\nMatch the top card on the DISCARD pile either by number, color, or word. For\\nexample, if the card is a Green 7, you must play a Green card or any color 7. Or,\\nyou may play any Wild card or a Wild Draw 4 card. If you don\\'t have anything\\nthat matches, you must pick a card from the DRAW pile. \\nIf you draw a card you can play, play it. Otherwise, play moves to the next person. \\nBefore playing your next to last card, you must say \"UNO\". If you don\\'t say UNO\\nand another player catches you with just one card before the next player begins\\ntheir turn, you must pick FOUR more cards from the DRAW pile. \\nIf you are not caught before the next player, either draw a card from the DRAW\\npile or draws a card from their hand to play, you do not have to draw the extra\\ncards. \\nOnce a player plays their last card, the hand is over. Points are tallied (see the\\nScoring section), and you start over again.\\nPage 3Page 3\\nRULES\\n.ORGUNOGOING OUT!\\nIf you forget to say, \"UNO\" before your card touches the DISCARD  pile, but you\\n\"catch\" yourself before any other player catches you, you are safe, not subject to\\nthe 4-card penalty.\\nYou may not catch a player for failure to say \"UNO!\" until his/her second-to-last\\ncard touches the DISCARD pile. Also, you may not catch a player for failure to say\\nit after the next player begins his/her turn. \\n\"Beginning a turn\" is defined as either drawing a card from the DRAW pile or\\ndrawing a card from your hand to play.\\nIf the last card played in a hand is a Draw 2 card or Wild Draw 4 Card, the next\\nplayer must draw 2 or 4 cards, depending upon the card played. These cards are\\ncounted when points are totaled.\\nIf no one is out of cards by the time the DRAW pile is depleted, reshuffle the\\nDISCARD pile and continue play.\\nSCORING AND WIN NING\\nIf you are the first to get rid of all your cards, you get the points for the cards left in\\nthe other player\\'s hands. Record the score after each hand. Each card is worth the\\nfollowing:\\n0-9+2\\n+2+4\\n+4\\n20 Points Face Value 20 Points 20 Points 50 Points 50 Points\\nThe WINNER is the first player to reach 500 points. However, the\\ngame may be scored by keeping a running total of the points\\neach player is caught with at the end of each hand. When one\\nplayer reaches 500 points, the player with the lowest points is\\nthe winner.\\nFind more special rules, house rules, special cards, and a big FAQ\\non unorules.org.', metadata={'source': '/Users/anuragkotiyal/Desktop/Projects/Board Games Rulebook/library/UNO.pdf', 'page': 3}),\n",
       " Document(page_content='RENEGING\\nYou may choose not to play a playable card from your hand. If so, you must draw a\\ncard from the DRAW pile. If playable, that card can be played, but you may not play a  \\ncard from your hand after the draw.\\nPage 4Page 4\\nRULES\\n.ORGUNOTWO PLAYERS (1 VS 1)\\nPlaying a Reverse card works like playing a Skip card. By playing the Reverse\\ncard, you may immediately play another card.\\nBy playing a Skip card, you may immediately play another card. \\nAfter playing a Draw 2 card or a Wild Draw 4 card, your opponent draws the\\nnumber of cards indicated, and play is back to you.Rules for two players (1 vs. 1) - The following special rules apply to two-player UNO:\\nFind more special rules, house rules, special cards, and a big FAQ\\non unorules.org.FREQUENTLY ASKED QUESTIONS\\nQ: Are these the official Uno rules?\\nA: Yes, they are. We have made them easier to read by changing the structure of the\\ntext.\\nQ: How many cards are in an Uno deck?\\nA: 112 (108 + 4 blank cards is the standard); however, some versions have more cards.\\nQ: How many cards do you start with?\\nA: 7 cards each. \\nQ: How do you win at Uno?\\nA: The first player with no cards left wins the round. First to 500 points win the game.\\nQ: How does a challenge work in Uno?\\nA: A challenge can only be made when the Wild Draw 4 card is played. If you\\nsuspect that a player has played a Wild Draw 4 card illegally, you may challenge\\nthem. A challenged player must show his/her hand to the player who challenged. If\\nthe challenged player is guilty, he/she must draw 4 cards. If the challenged player is\\nnot guilty, the challenger must draw the 4 cards, plus 2 additional cards.\\nQ: What happens if you don\\'t say, Uno?\\nA: Before playing your next to last card, you must say \"UNO\". If you don\\'t say UNO\\nand another player catches you with just one card before the next player begins\\ntheir turn, you must pick FOUR more cards from the DRAW pile.\\nQ: What is \"stacking\"?\\nA: Stacking is allowing to play a special card upon an already played special card.\\nExample: Player A plays a Wild Draw 4 cards. Player B also plays the Wild Draw 4\\ncards, making Player C forced to pick up 8 cards.\\nQ: Is allowed by the official rules in Uno?\\nA: No. Stacking is not an official rule, however a widespread modified house rule!\\nAre you still wondering about anything, or are you curious to find out more? Visit\\nunorules.org to find all the questions and answers about Uno.You can find the whole FAQ at unorules.org/faq!', metadata={'source': '/Users/anuragkotiyal/Desktop/Projects/Board Games Rulebook/library/UNO.pdf', 'page': 4})]"
      ]
     },
     "execution_count": 6,
     "metadata": {},
     "output_type": "execute_result"
    }
   ],
   "source": [
    "documents[0:5]"
   ]
  },
  {
   "cell_type": "code",
   "execution_count": 7,
   "metadata": {},
   "outputs": [],
   "source": [
    "chunks = split_docs_into_chunks(documents)\n",
    "chunks_with_ids = get_chunk_ids(chunks)"
   ]
  },
  {
   "cell_type": "code",
   "execution_count": 8,
   "metadata": {},
   "outputs": [
    {
     "data": {
      "text/plain": [
       "[Document(page_content='UNO\\nRULES\\nRULES .ORGUNOTHE OFFICIAL\\nTHE RULES OF UNO ARE SIMPLE.\\nHOWEVER, WE HAVE MADE IT EVEN\\nEASIER TO SURVEY THE RULES AND\\nADDED AN FAQ AT THE END!\\n \\nCHECK OUT UNORULES.ORG FOR MORE!RULES\\n.ORGUNO\\nPRESENTS', metadata={'source': '/Users/anuragkotiyal/Desktop/Projects/Board Games Rulebook/library/UNO.pdf', 'page': 0, 'id': '/Users/anuragkotiyal/Desktop/Projects/Board Games Rulebook/library/UNO.pdf:0:0'}),\n",
       " Document(page_content='0-90-90-90-919 Red cards - 0 to 9\\n19 Blue cards - 0 to 9\\n19 Green cards - 0 to 9\\n19 Yellow cards - 0 to 9\\n2 Green Reverse cards\\n2 Yellow Reverse cards\\n2 Red Reverse cards\\n2 Blue Reverse cards+2\\n+2+2\\n+2+2\\n+2+2\\n+2\\n+4\\n+4+4\\n+4+4\\n+4+4\\n+4', metadata={'source': '/Users/anuragkotiyal/Desktop/Projects/Board Games Rulebook/library/UNO.pdf', 'page': 1, 'id': '/Users/anuragkotiyal/Desktop/Projects/Board Games Rulebook/library/UNO.pdf:1:0'}),\n",
       " Document(page_content='+2\\n+4\\n+4+4\\n+4+4\\n+4+4\\n+4\\n4 Wild cards 4 Wild Draw 4 cards\\nEach player draws a card. The player with the highest point value is the\\ndealer. Shuffle the deck. Each player is dealt seven cards.', metadata={'source': '/Users/anuragkotiyal/Desktop/Projects/Board Games Rulebook/library/UNO.pdf', 'page': 1, 'id': '/Users/anuragkotiyal/Desktop/Projects/Board Games Rulebook/library/UNO.pdf:1:1'}),\n",
       " Document(page_content='Place the remaining cards facedown to form a DRAW pile. Turn over the\\ntop card of the DRAW pile to begin a DISCARD pile. If the top card is a\\nWild or Wild Draw 4, return it to the deck and pick another card. For all', metadata={'source': '/Users/anuragkotiyal/Desktop/Projects/Board Games Rulebook/library/UNO.pdf', 'page': 1, 'id': '/Users/anuragkotiyal/Desktop/Projects/Board Games Rulebook/library/UNO.pdf:1:2'}),\n",
       " Document(page_content='the other cards, see directions that follow.7OFFICIAL UNO RULES\\nClassic Uno\\nCONTENTS\\n112 cards as follows:\\n76 Numbered cards 8 Skip cards\\n8 Reverse cards 8 Draw 2 cards\\n2 Blue Draw 2 Cards\\n2 Green Draw 2 Cards\\n2 Red Draw 2 Cards', metadata={'source': '/Users/anuragkotiyal/Desktop/Projects/Board Games Rulebook/library/UNO.pdf', 'page': 1, 'id': '/Users/anuragkotiyal/Desktop/Projects/Board Games Rulebook/library/UNO.pdf:1:3'})]"
      ]
     },
     "execution_count": 8,
     "metadata": {},
     "output_type": "execute_result"
    }
   ],
   "source": [
    "chunks_with_ids[0:5]"
   ]
  },
  {
   "cell_type": "code",
   "execution_count": 9,
   "metadata": {},
   "outputs": [
    {
     "name": "stdout",
     "output_type": "stream",
     "text": [
      "The number of loaded docs were 13 and they were split into 120 chunks.\n"
     ]
    }
   ],
   "source": [
    "print(f\"The number of loaded docs were {len(documents)} and they were split into {len(chunks)} chunks.\")"
   ]
  },
  {
   "cell_type": "code",
   "execution_count": 10,
   "metadata": {},
   "outputs": [],
   "source": [
    "# pre-trained hugging face embedding model used to embed user query and loaded data from pdfs\n",
    "model_name = \"sentence-transformers/all-MiniLM-l6-v2\"\n",
    "\n",
    "# create a dictionary with model configuration options, specifying to use the CPU for computations\n",
    "model_kwargs = {'device':'cpu'}\n",
    "\n",
    "# create a dictionary with encoding options, specifically setting 'normalize_embeddings' to False\n",
    "encode_kwargs = {'normalize_embeddings': False}\n",
    "\n",
    "# initialize an instance of HuggingFaceEmbeddings with the specified parameters\n",
    "embeddings = HuggingFaceEmbeddings(\n",
    "    model_name = model_name,     \n",
    "    model_kwargs = model_kwargs, \n",
    "    encode_kwargs = encode_kwargs \n",
    ")"
   ]
  },
  {
   "cell_type": "code",
   "execution_count": 11,
   "metadata": {},
   "outputs": [
    {
     "data": {
      "text/plain": [
       "[-0.038338553160429, 0.12346471846103668, -0.028642943128943443]"
      ]
     },
     "execution_count": 11,
     "metadata": {},
     "output_type": "execute_result"
    }
   ],
   "source": [
    "text = \"This is a test document.\"\n",
    "query_result = embeddings.embed_query(text)\n",
    "query_result[:3]"
   ]
  },
  {
   "cell_type": "code",
   "execution_count": 12,
   "metadata": {},
   "outputs": [
    {
     "name": "stdout",
     "output_type": "stream",
     "text": [
      "This embedding model creates vector embeddings for chunks in 384 dimensions.\n"
     ]
    }
   ],
   "source": [
    "print(f\"This embedding model creates vector embeddings for chunks in {len(query_result)} dimensions.\")"
   ]
  },
  {
   "cell_type": "code",
   "execution_count": 13,
   "metadata": {},
   "outputs": [],
   "source": [
    "# creating a faiss vector database to run similarity searches for user queries\n",
    "db = FAISS.from_documents(chunks_with_ids, embeddings)"
   ]
  },
  {
   "cell_type": "code",
   "execution_count": 14,
   "metadata": {},
   "outputs": [
    {
     "name": "stdout",
     "output_type": "stream",
     "text": [
      "text.\n",
      "Q: How many cards are in an Uno deck?\n",
      "A: 112 (108 + 4 blank cards is the standard); however, some versions have more cards.\n",
      "Q: How many cards do you start with?\n",
      "A: 7 cards each. \n",
      "Q: How do you win at Uno?\n",
      "Chunk ID - /Users/anuragkotiyal/Desktop/Projects/Board Games Rulebook/library/UNO.pdf:4:4\n",
      "-----\n",
      "the other cards, see directions that follow.7OFFICIAL UNO RULES\n",
      "Classic Uno\n",
      "CONTENTS\n",
      "112 cards as follows:\n",
      "76 Numbered cards 8 Skip cards\n",
      "8 Reverse cards 8 Draw 2 cards\n",
      "2 Blue Draw 2 Cards\n",
      "2 Green Draw 2 Cards\n",
      "2 Red Draw 2 Cards\n",
      "Chunk ID - /Users/anuragkotiyal/Desktop/Projects/Board Games Rulebook/library/UNO.pdf:1:3\n",
      "-----\n",
      "2 Red Draw 2 Cards\n",
      "2 Yellow Draw 2 Cards2 Yellow Skip cards\n",
      "2 Red Skip cards\n",
      "2 Green Skip cards\n",
      "2 Blue Skip cards\n",
      "Some Uno decks can also contain various numbers of these different\n",
      "Chunk ID - /Users/anuragkotiyal/Desktop/Projects/Board Games Rulebook/library/UNO.pdf:1:4\n",
      "-----\n"
     ]
    }
   ],
   "source": [
    "question = \"How many cards in an UNO deck?\"\n",
    "searchDocs = db.similarity_search_with_score(question, k = 3)\n",
    "for doc, _ in searchDocs:\n",
    "    print(doc.page_content)\n",
    "    print(f\"Chunk ID - {doc.metadata['id']}\")\n",
    "    print(\"-----\")"
   ]
  },
  {
   "cell_type": "code",
   "execution_count": 15,
   "metadata": {},
   "outputs": [],
   "source": [
    "PROMPT_TEMPLATE = \"\"\"\n",
    "Answer the question based only on the following context:\n",
    "\n",
    "{context}\n",
    "\n",
    "---\n",
    "\n",
    "Answer the question based on the above context: {question}\n",
    "\"\"\""
   ]
  },
  {
   "cell_type": "code",
   "execution_count": 16,
   "metadata": {},
   "outputs": [],
   "source": [
    "query_text = \"How many cards in an UNO deck?\"\n",
    "\n",
    "searchDocs = db.similarity_search_with_score(question, k = 3)\n",
    "context = \" \".join([doc.page_content for doc, _ in searchDocs])\n",
    "\n",
    "prompt_template = ChatPromptTemplate.from_template(PROMPT_TEMPLATE)\n",
    "prompt = prompt_template.format(context = context, question = query_text)"
   ]
  },
  {
   "cell_type": "code",
   "execution_count": 17,
   "metadata": {},
   "outputs": [
    {
     "name": "stdout",
     "output_type": "stream",
     "text": [
      "Human: \n",
      "Answer the question based only on the following context:\n",
      "\n",
      "text.\n",
      "Q: How many cards are in an Uno deck?\n",
      "A: 112 (108 + 4 blank cards is the standard); however, some versions have more cards.\n",
      "Q: How many cards do you start with?\n",
      "A: 7 cards each. \n",
      "Q: How do you win at Uno? the other cards, see directions that follow.7OFFICIAL UNO RULES\n",
      "Classic Uno\n",
      "CONTENTS\n",
      "112 cards as follows:\n",
      "76 Numbered cards 8 Skip cards\n",
      "8 Reverse cards 8 Draw 2 cards\n",
      "2 Blue Draw 2 Cards\n",
      "2 Green Draw 2 Cards\n",
      "2 Red Draw 2 Cards 2 Red Draw 2 Cards\n",
      "2 Yellow Draw 2 Cards2 Yellow Skip cards\n",
      "2 Red Skip cards\n",
      "2 Green Skip cards\n",
      "2 Blue Skip cards\n",
      "Some Uno decks can also contain various numbers of these different\n",
      "\n",
      "---\n",
      "\n",
      "Answer the question based on the above context: How many cards in an UNO deck?\n",
      "\n"
     ]
    }
   ],
   "source": [
    "print(prompt)"
   ]
  },
  {
   "cell_type": "code",
   "execution_count": 18,
   "metadata": {},
   "outputs": [],
   "source": [
    "# initialise Ollama minstral model -> need to run ollama serve from terminal before using Ollama\n",
    "model = Ollama(model = \"llama3\")"
   ]
  },
  {
   "cell_type": "code",
   "execution_count": 19,
   "metadata": {},
   "outputs": [],
   "source": [
    "def get_answer(question: str):\n",
    "    \n",
    "    \"\"\" A function that retrives similar documents from our faiss database and pass an enhanced query\n",
    "    through Ollama minstral model to receive a coherent and concide answer to the base query.\n",
    "\n",
    "    Args:\n",
    "        question (str): a question asked by the user.\n",
    "\n",
    "    Returns:\n",
    "        str: formatted text response from the minstral model that contains source material for the answer.\n",
    "    \"\"\"\n",
    "    \n",
    "    # retrieve top 3 relevant document chunks from the database based on user's query \n",
    "    results = db.similarity_search_with_score(question, k = 5)\n",
    "    context = \" \".join([doc.page_content for doc, _ in results])\n",
    "    \n",
    "    # create a prompt template for Ollama\n",
    "    prompt_template = ChatPromptTemplate.from_template(PROMPT_TEMPLATE)\n",
    "    \n",
    "    # create a proper prompt using langchains LLM prompt\n",
    "    prompt = prompt_template.format(context = context, question = question)\n",
    "    \n",
    "    # get sources of the relevant docs in this case the unique id we created for the chunks\n",
    "    sources = [doc.metadata.get(\"id\", None) for doc, _score in results]\n",
    "    \n",
    "    # get a response to the enhanced query from Ollama\n",
    "    response_text = model.invoke(prompt)\n",
    "    \n",
    "    # format response so that it contains model's answer as well the source documents it used to generate that answer\n",
    "    formatted_response = f\"Response: {response_text}\\n\\nSources: {sources}\"\n",
    "    \n",
    "    return formatted_response"
   ]
  },
  {
   "cell_type": "code",
   "execution_count": 20,
   "metadata": {},
   "outputs": [],
   "source": [
    "# question 1 from query.txt\n",
    "query = \"How many cards in an UNO deck?\"\n",
    "answer = get_answer(question = query)"
   ]
  },
  {
   "cell_type": "code",
   "execution_count": 21,
   "metadata": {},
   "outputs": [
    {
     "name": "stdout",
     "output_type": "stream",
     "text": [
      "Response: According to the provided text, there are 112 cards in a standard Uno deck.\n",
      "\n",
      "Sources: ['/Users/anuragkotiyal/Desktop/Projects/Board Games Rulebook/library/UNO.pdf:4:4', '/Users/anuragkotiyal/Desktop/Projects/Board Games Rulebook/library/UNO.pdf:1:3', '/Users/anuragkotiyal/Desktop/Projects/Board Games Rulebook/library/UNO.pdf:1:4', '/Users/anuragkotiyal/Desktop/Projects/Board Games Rulebook/library/UNO.pdf:1:5', '/Users/anuragkotiyal/Desktop/Projects/Board Games Rulebook/library/UNO.pdf:3:6']\n"
     ]
    }
   ],
   "source": [
    "print(answer)"
   ]
  },
  {
   "cell_type": "code",
   "execution_count": 22,
   "metadata": {},
   "outputs": [],
   "source": [
    "# question 2 from query.txt\n",
    "query = \"How do you win in UNO?\"\n",
    "answer = get_answer(question = query)"
   ]
  },
  {
   "cell_type": "code",
   "execution_count": 23,
   "metadata": {},
   "outputs": [
    {
     "name": "stdout",
     "output_type": "stream",
     "text": [
      "Response: According to the provided context, the first player to score 500 points wins the game. Additionally, if a player has no cards left at the end of each hand, they also win that round. However, the ultimate winner is determined by the player with the lowest points among all players who have reached 500 points or more.\n",
      "\n",
      "Sources: ['/Users/anuragkotiyal/Desktop/Projects/Board Games Rulebook/library/UNO.pdf:1:6', '/Users/anuragkotiyal/Desktop/Projects/Board Games Rulebook/library/UNO.pdf:3:11', '/Users/anuragkotiyal/Desktop/Projects/Board Games Rulebook/library/UNO.pdf:4:5', '/Users/anuragkotiyal/Desktop/Projects/Board Games Rulebook/library/UNO.pdf:3:2', '/Users/anuragkotiyal/Desktop/Projects/Board Games Rulebook/library/UNO.pdf:0:0']\n"
     ]
    }
   ],
   "source": [
    "print(answer)"
   ]
  },
  {
   "cell_type": "code",
   "execution_count": 24,
   "metadata": {},
   "outputs": [],
   "source": [
    "# question 3 from query.txt\n",
    "query = \"How to play UNO?\"\n",
    "answer = get_answer(question = query)"
   ]
  },
  {
   "cell_type": "code",
   "execution_count": 25,
   "metadata": {},
   "outputs": [
    {
     "name": "stdout",
     "output_type": "stream",
     "text": [
      "Response: According to the provided context, here's how to play UNO:\n",
      "\n",
      "1. If you draw a card you can play, play it.\n",
      "2. Otherwise, play moves to the next person.\n",
      "\n",
      "Before playing your next-to-last card, you must say \"UNO\".\n",
      "\n",
      "That's it! Simple rules, indeed\n",
      "\n",
      "Sources: ['/Users/anuragkotiyal/Desktop/Projects/Board Games Rulebook/library/UNO.pdf:3:2', '/Users/anuragkotiyal/Desktop/Projects/Board Games Rulebook/library/UNO.pdf:4:11', '/Users/anuragkotiyal/Desktop/Projects/Board Games Rulebook/library/UNO.pdf:0:0', '/Users/anuragkotiyal/Desktop/Projects/Board Games Rulebook/library/UNO.pdf:1:3', '/Users/anuragkotiyal/Desktop/Projects/Board Games Rulebook/library/UNO.pdf:1:5']\n"
     ]
    }
   ],
   "source": [
    "print(answer)"
   ]
  },
  {
   "cell_type": "code",
   "execution_count": 26,
   "metadata": {},
   "outputs": [],
   "source": [
    "# question 4 from query.txt\n",
    "query = \"How many players can play Monopoly?\"\n",
    "answer = get_answer(question = query)"
   ]
  },
  {
   "cell_type": "code",
   "execution_count": 27,
   "metadata": {},
   "outputs": [
    {
     "name": "stdout",
     "output_type": "stream",
     "text": [
      "Response: According to the context, 2 to 8 players can play Monopoly.\n",
      "\n",
      "Sources: ['/Users/anuragkotiyal/Desktop/Projects/Board Games Rulebook/library/MONOPOLY.pdf:0:0', '/Users/anuragkotiyal/Desktop/Projects/Board Games Rulebook/library/MONOPOLY.pdf:0:1', '/Users/anuragkotiyal/Desktop/Projects/Board Games Rulebook/library/MONOPOLY.pdf:2:0', '/Users/anuragkotiyal/Desktop/Projects/Board Games Rulebook/library/UNO.pdf:3:11', '/Users/anuragkotiyal/Desktop/Projects/Board Games Rulebook/library/MONOPOLY.pdf:7:9']\n"
     ]
    }
   ],
   "source": [
    "print(answer)"
   ]
  },
  {
   "cell_type": "code",
   "execution_count": 28,
   "metadata": {},
   "outputs": [],
   "source": [
    "# question 5 from query.txt\n",
    "query = \"What are the speed die rules in Monopoly?\"\n",
    "answer = get_answer(question = query)"
   ]
  },
  {
   "cell_type": "code",
   "execution_count": 29,
   "metadata": {},
   "outputs": [
    {
     "name": "stdout",
     "output_type": "stream",
     "text": [
      "Response: According to the given context, the Speed Die rules in Monopoly are as follows:\n",
      "\n",
      "1. Roll the Speed Die along with the two white dice on your turn.\n",
      "2. Depending on what you rolled, do the following:\n",
      "\t* If you roll a combination that allows you to use the Speed Die (not specified what this is), you can start using it before others.\n",
      "\n",
      "Note: The rest of the rules are described as \"additional\" and assume you already know how to play Monopoly according to the classic rules.\n",
      "\n",
      "Sources: ['/Users/anuragkotiyal/Desktop/Projects/Board Games Rulebook/library/MONOPOLY.pdf:0:2', '/Users/anuragkotiyal/Desktop/Projects/Board Games Rulebook/library/MONOPOLY.pdf:0:5', '/Users/anuragkotiyal/Desktop/Projects/Board Games Rulebook/library/MONOPOLY.pdf:0:1', '/Users/anuragkotiyal/Desktop/Projects/Board Games Rulebook/library/MONOPOLY.pdf:1:1', '/Users/anuragkotiyal/Desktop/Projects/Board Games Rulebook/library/MONOPOLY.pdf:1:5']\n"
     ]
    }
   ],
   "source": [
    "print(answer)"
   ]
  },
  {
   "cell_type": "code",
   "execution_count": 30,
   "metadata": {},
   "outputs": [],
   "source": [
    "# question 6 from query.txt\n",
    "query = \"What is the Banker in Monopoly?\"\n",
    "answer = get_answer(question = query)"
   ]
  },
  {
   "cell_type": "code",
   "execution_count": 31,
   "metadata": {},
   "outputs": [
    {
     "name": "stdout",
     "output_type": "stream",
     "text": [
      "Response: According to the provided context, the Banker is a player who will also make a good Auctioneer. The Banker's main role is to keep their personal funds and issue as much more as needed by writing on any ordinary paper.\n",
      "\n",
      "Sources: ['/Users/anuragkotiyal/Desktop/Projects/Board Games Rulebook/library/MONOPOLY.pdf:2:1', '/Users/anuragkotiyal/Desktop/Projects/Board Games Rulebook/library/MONOPOLY.pdf:2:5', '/Users/anuragkotiyal/Desktop/Projects/Board Games Rulebook/library/MONOPOLY.pdf:0:0', '/Users/anuragkotiyal/Desktop/Projects/Board Games Rulebook/library/MONOPOLY.pdf:2:2', '/Users/anuragkotiyal/Desktop/Projects/Board Games Rulebook/library/MONOPOLY.pdf:2:3']\n"
     ]
    }
   ],
   "source": [
    "print(answer)"
   ]
  }
 ],
 "metadata": {
  "kernelspec": {
   "display_name": "env",
   "language": "python",
   "name": "python3"
  },
  "language_info": {
   "codemirror_mode": {
    "name": "ipython",
    "version": 3
   },
   "file_extension": ".py",
   "mimetype": "text/x-python",
   "name": "python",
   "nbconvert_exporter": "python",
   "pygments_lexer": "ipython3",
   "version": "3.9.13"
  }
 },
 "nbformat": 4,
 "nbformat_minor": 2
}
